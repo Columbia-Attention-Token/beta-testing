{
 "cells": [
  {
   "cell_type": "code",
   "execution_count": 73,
   "id": "7dc437a9-b6b0-4644-a608-e2be290bc3f8",
   "metadata": {},
   "outputs": [],
   "source": [
    "import pandas as pd\n",
    "from pathlib import Path"
   ]
  },
  {
   "cell_type": "code",
   "execution_count": 74,
   "id": "76cf22b1-191f-4439-bf1d-60e20661acca",
   "metadata": {},
   "outputs": [
    {
     "data": {
      "text/html": [
       "<div>\n",
       "<style scoped>\n",
       "    .dataframe tbody tr th:only-of-type {\n",
       "        vertical-align: middle;\n",
       "    }\n",
       "\n",
       "    .dataframe tbody tr th {\n",
       "        vertical-align: top;\n",
       "    }\n",
       "\n",
       "    .dataframe thead th {\n",
       "        text-align: right;\n",
       "    }\n",
       "</style>\n",
       "<table border=\"1\" class=\"dataframe\">\n",
       "  <thead>\n",
       "    <tr style=\"text-align: right;\">\n",
       "      <th></th>\n",
       "      <th>month</th>\n",
       "      <th>total_text_length</th>\n",
       "      <th>top_channel</th>\n",
       "      <th>top_day</th>\n",
       "      <th>total_attachments</th>\n",
       "      <th>total_reactions</th>\n",
       "      <th>top_user</th>\n",
       "    </tr>\n",
       "  </thead>\n",
       "  <tbody>\n",
       "    <tr>\n",
       "      <th>0</th>\n",
       "      <td>June</td>\n",
       "      <td>36109</td>\n",
       "      <td>02-ask-the-class</td>\n",
       "      <td>Wednesday</td>\n",
       "      <td>382</td>\n",
       "      <td>382</td>\n",
       "      <td>23R27V74N</td>\n",
       "    </tr>\n",
       "    <tr>\n",
       "      <th>1</th>\n",
       "      <td>July</td>\n",
       "      <td>41724</td>\n",
       "      <td>02-ask-the-class</td>\n",
       "      <td>Thursday</td>\n",
       "      <td>363</td>\n",
       "      <td>363</td>\n",
       "      <td>24R294XHV</td>\n",
       "    </tr>\n",
       "    <tr>\n",
       "      <th>2</th>\n",
       "      <td>August</td>\n",
       "      <td>14664</td>\n",
       "      <td>02-ask-the-class</td>\n",
       "      <td>Monday</td>\n",
       "      <td>179</td>\n",
       "      <td>179</td>\n",
       "      <td>260MXFCV9</td>\n",
       "    </tr>\n",
       "    <tr>\n",
       "      <th>3</th>\n",
       "      <td>September</td>\n",
       "      <td>16965</td>\n",
       "      <td>01-live-mw</td>\n",
       "      <td>Monday</td>\n",
       "      <td>103</td>\n",
       "      <td>103</td>\n",
       "      <td>23R27V74N</td>\n",
       "    </tr>\n",
       "    <tr>\n",
       "      <th>4</th>\n",
       "      <td>October</td>\n",
       "      <td>13547</td>\n",
       "      <td>01-live-mw</td>\n",
       "      <td>Thursday</td>\n",
       "      <td>124</td>\n",
       "      <td>124</td>\n",
       "      <td>260MXFCV9</td>\n",
       "    </tr>\n",
       "    <tr>\n",
       "      <th>5</th>\n",
       "      <td>November</td>\n",
       "      <td>7150</td>\n",
       "      <td>02-ask-the-class</td>\n",
       "      <td>Monday</td>\n",
       "      <td>62</td>\n",
       "      <td>62</td>\n",
       "      <td>23R27V74N</td>\n",
       "    </tr>\n",
       "  </tbody>\n",
       "</table>\n",
       "</div>"
      ],
      "text/plain": [
       "       month  total_text_length       top_channel    top_day  \\\n",
       "0       June              36109  02-ask-the-class  Wednesday   \n",
       "1       July              41724  02-ask-the-class   Thursday   \n",
       "2     August              14664  02-ask-the-class     Monday   \n",
       "3  September              16965        01-live-mw     Monday   \n",
       "4    October              13547        01-live-mw   Thursday   \n",
       "5   November               7150  02-ask-the-class     Monday   \n",
       "\n",
       "   total_attachments  total_reactions   top_user  \n",
       "0                382              382  23R27V74N  \n",
       "1                363              363  24R294XHV  \n",
       "2                179              179  260MXFCV9  \n",
       "3                103              103  23R27V74N  \n",
       "4                124              124  260MXFCV9  \n",
       "5                 62               62  23R27V74N  "
      ]
     },
     "execution_count": 74,
     "metadata": {},
     "output_type": "execute_result"
    }
   ],
   "source": [
    "monthly_data = pd.read_csv(Path(\".\\monthly_data.csv\"))\n",
    "monthly_data"
   ]
  },
  {
   "cell_type": "code",
   "execution_count": 75,
   "id": "b9116b1f-c037-4fd0-be02-1ab38823a24f",
   "metadata": {},
   "outputs": [],
   "source": [
    "# list of color maps\n",
    "colormaps = ['jet', 'viridis', 'magma', 'nipy_spectral', 'hot', 'gist_ncar']"
   ]
  },
  {
   "cell_type": "code",
   "execution_count": 76,
   "id": "3437069d-dd88-4000-8479-c628878e7e58",
   "metadata": {},
   "outputs": [],
   "source": [
    "# Filter dataframe\n",
    "june = monthly_data[monthly_data['month'] == 'June']\n",
    "july = monthly_data[monthly_data['month'] == 'July']\n",
    "august = monthly_data[monthly_data['month'] == 'August']\n",
    "september = monthly_data[monthly_data['month'] == 'September']\n",
    "october = monthly_data[monthly_data['month'] == 'October']\n",
    "november = monthly_data[monthly_data['month'] == 'November']"
   ]
  },
  {
   "cell_type": "code",
   "execution_count": 77,
   "id": "fc3f9036-34c8-483b-9798-13cf5d8464d4",
   "metadata": {},
   "outputs": [
    {
     "name": "stderr",
     "output_type": "stream",
     "text": [
      "C:\\Users\\jpmad\\anaconda3\\envs\\dev\\lib\\site-packages\\ipykernel_launcher.py:6: SettingWithCopyWarning: \n",
      "A value is trying to be set on a copy of a slice from a DataFrame.\n",
      "Try using .loc[row_indexer,col_indexer] = value instead\n",
      "\n",
      "See the caveats in the documentation: https://pandas.pydata.org/pandas-docs/stable/user_guide/indexing.html#returning-a-view-versus-a-copy\n",
      "  \n",
      "C:\\Users\\jpmad\\anaconda3\\envs\\dev\\lib\\site-packages\\pandas\\core\\frame.py:4913: SettingWithCopyWarning: \n",
      "A value is trying to be set on a copy of a slice from a DataFrame\n",
      "\n",
      "See the caveats in the documentation: https://pandas.pydata.org/pandas-docs/stable/user_guide/indexing.html#returning-a-view-versus-a-copy\n",
      "  errors=errors,\n",
      "C:\\Users\\jpmad\\anaconda3\\envs\\dev\\lib\\site-packages\\ipykernel_launcher.py:11: SettingWithCopyWarning: \n",
      "A value is trying to be set on a copy of a slice from a DataFrame.\n",
      "Try using .loc[row_indexer,col_indexer] = value instead\n",
      "\n",
      "See the caveats in the documentation: https://pandas.pydata.org/pandas-docs/stable/user_guide/indexing.html#returning-a-view-versus-a-copy\n",
      "  # This is added back by InteractiveShellApp.init_path()\n",
      "C:\\Users\\jpmad\\anaconda3\\envs\\dev\\lib\\site-packages\\ipykernel_launcher.py:16: SettingWithCopyWarning: \n",
      "A value is trying to be set on a copy of a slice from a DataFrame.\n",
      "Try using .loc[row_indexer,col_indexer] = value instead\n",
      "\n",
      "See the caveats in the documentation: https://pandas.pydata.org/pandas-docs/stable/user_guide/indexing.html#returning-a-view-versus-a-copy\n",
      "  app.launch_new_instance()\n",
      "C:\\Users\\jpmad\\anaconda3\\envs\\dev\\lib\\site-packages\\ipykernel_launcher.py:21: SettingWithCopyWarning: \n",
      "A value is trying to be set on a copy of a slice from a DataFrame.\n",
      "Try using .loc[row_indexer,col_indexer] = value instead\n",
      "\n",
      "See the caveats in the documentation: https://pandas.pydata.org/pandas-docs/stable/user_guide/indexing.html#returning-a-view-versus-a-copy\n",
      "C:\\Users\\jpmad\\anaconda3\\envs\\dev\\lib\\site-packages\\ipykernel_launcher.py:26: SettingWithCopyWarning: \n",
      "A value is trying to be set on a copy of a slice from a DataFrame.\n",
      "Try using .loc[row_indexer,col_indexer] = value instead\n",
      "\n",
      "See the caveats in the documentation: https://pandas.pydata.org/pandas-docs/stable/user_guide/indexing.html#returning-a-view-versus-a-copy\n",
      "C:\\Users\\jpmad\\anaconda3\\envs\\dev\\lib\\site-packages\\ipykernel_launcher.py:31: SettingWithCopyWarning: \n",
      "A value is trying to be set on a copy of a slice from a DataFrame.\n",
      "Try using .loc[row_indexer,col_indexer] = value instead\n",
      "\n",
      "See the caveats in the documentation: https://pandas.pydata.org/pandas-docs/stable/user_guide/indexing.html#returning-a-view-versus-a-copy\n"
     ]
    }
   ],
   "source": [
    "## Tally up all integer containing columns and store them in a new column\n",
    "# Drop previous integer containing columns\n",
    "\n",
    "june_int = june['total_text_length'] + june['total_attachments'] + june['total_reactions']\n",
    "june_int = june_int[0]\n",
    "june['int'] = june_int\n",
    "june.drop(['total_text_length', 'total_attachments', 'total_reactions', 'top_channel', 'top_user', 'top_day'], axis=1, inplace=True)\n",
    "\n",
    "july_int = july['total_text_length'] + july['total_attachments'] + july['total_reactions']\n",
    "july_int = july_int[1]\n",
    "july['int'] = july_int\n",
    "july.drop(['total_text_length', 'total_attachments', 'total_reactions', 'top_channel', 'top_user', 'top_day'], axis=1, inplace=True)\n",
    "\n",
    "august_int = august['total_text_length'] + august['total_attachments'] + august['total_reactions']\n",
    "august_int = august_int[2]\n",
    "august['int'] = august_int\n",
    "august.drop(['total_text_length', 'total_attachments', 'total_reactions', 'top_channel', 'top_user', 'top_day'], axis=1, inplace=True)\n",
    "\n",
    "september_int = september['total_text_length'] + september['total_attachments'] + september['total_reactions']\n",
    "september_int = september_int[3]\n",
    "september['int'] = september_int\n",
    "september.drop(['total_text_length', 'total_attachments', 'total_reactions', 'top_channel', 'top_user', 'top_day'], axis=1, inplace=True)\n",
    "\n",
    "october_int = october['total_text_length'] + october['total_attachments'] + october['total_reactions']\n",
    "october_int = october_int[4]\n",
    "october['int'] = october_int\n",
    "october.drop(['total_text_length', 'total_attachments', 'total_reactions', 'top_channel', 'top_user', 'top_day'], axis=1, inplace=True)\n",
    "\n",
    "november_int = november['total_text_length'] + november['total_attachments'] + november['total_reactions']\n",
    "november_int = november_int[5]\n",
    "november['int'] = november_int\n",
    "november.drop(['total_text_length', 'total_attachments', 'total_reactions', 'top_channel', 'top_user', 'top_day'], axis=1, inplace=True)\n"
   ]
  },
  {
   "cell_type": "code",
   "execution_count": 112,
   "id": "f4e48f16-2e16-42da-8610-c599d59ee81d",
   "metadata": {},
   "outputs": [],
   "source": [
    "# Math to assign to colormaps\n",
    "june_mod = june['int'][0] % 3\n",
    "july_mod = july['int'][1] % 3\n",
    "august_mod = august['int'][2] % 3\n",
    "september_mod = september['int'][3] % 3\n",
    "october_mod = october['int'][4] % 3\n",
    "november_mod = november['int'][5] % 3"
   ]
  },
  {
   "cell_type": "code",
   "execution_count": 113,
   "id": "4c4a02c5-8201-422e-ad7b-3ace87b58c93",
   "metadata": {},
   "outputs": [
    {
     "data": {
      "text/plain": [
       "2"
      ]
     },
     "execution_count": 113,
     "metadata": {},
     "output_type": "execute_result"
    }
   ],
   "source": [
    "november_mod"
   ]
  },
  {
   "cell_type": "code",
   "execution_count": 119,
   "id": "8bfe519d-27f4-41d0-9883-89ffd8deee6a",
   "metadata": {},
   "outputs": [
    {
     "name": "stdout",
     "output_type": "stream",
     "text": [
      "0\n",
      "0\n",
      "1\n",
      "3\n",
      "4\n",
      "5\n"
     ]
    }
   ],
   "source": [
    "# Color map assigning (continued)\n",
    "june_ind = abs(june_mod)\n",
    "july_ind = abs(june_ind + july_mod)\n",
    "august_ind = abs(july_ind + august_mod)\n",
    "september_ind = abs(august_ind + september_mod)\n",
    "october_ind = abs(september_ind + october_mod)\n",
    "november_ind = abs(october_ind + november_mod) -1\n",
    "indexes = [june_ind, july_ind, august_ind, september_ind, october_ind, november_ind]\n",
    "for index in indexes:\n",
    "    print(index)"
   ]
  },
  {
   "cell_type": "code",
   "execution_count": 121,
   "id": "246c73e4-3f2e-437a-85ec-332700b503b7",
   "metadata": {},
   "outputs": [],
   "source": [
    "# Assign color map values\n",
    "june_cm = colormaps[june_ind]\n",
    "july_cm = colormaps[july_ind + 2]\n",
    "august_cm = colormaps[august_ind]\n",
    "september_cm = colormaps[september_ind]\n",
    "october_cm = colormaps[october_ind]\n",
    "november_cm = colormaps[november_ind]\n",
    "\n",
    "month_cms = [june_cm, july_cm, august_cm, september_cm, october_cm, november_cm]"
   ]
  },
  {
   "cell_type": "code",
   "execution_count": 122,
   "id": "3af742b2-0913-4bd6-850a-b62448e2943d",
   "metadata": {},
   "outputs": [
    {
     "name": "stdout",
     "output_type": "stream",
     "text": [
      "jet\n",
      "magma\n",
      "viridis\n",
      "nipy_spectral\n",
      "hot\n",
      "gist_ncar\n"
     ]
    }
   ],
   "source": [
    "# Print each colormap assignment\n",
    "for cm in month_cms:\n",
    "    print(cm)"
   ]
  },
  {
   "cell_type": "code",
   "execution_count": null,
   "id": "c239c841-54b2-4ce2-82bb-e4c95149c7b7",
   "metadata": {},
   "outputs": [],
   "source": []
  }
 ],
 "metadata": {
  "kernelspec": {
   "display_name": "dev",
   "language": "python",
   "name": "dev"
  },
  "language_info": {
   "codemirror_mode": {
    "name": "ipython",
    "version": 3
   },
   "file_extension": ".py",
   "mimetype": "text/x-python",
   "name": "python",
   "nbconvert_exporter": "python",
   "pygments_lexer": "ipython3",
   "version": "3.7.11"
  }
 },
 "nbformat": 4,
 "nbformat_minor": 5
}
