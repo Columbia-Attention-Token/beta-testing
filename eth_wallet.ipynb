{
 "cells": [
  {
   "cell_type": "code",
   "execution_count": 1,
   "metadata": {},
   "outputs": [],
   "source": [
    "# Imports\n",
    "from pathlib import Path\n",
    "import pandas as pd\n",
    "import os\n",
    "from dotenv import load_dotenv\n",
    "load_dotenv()\n",
    "from mnemonic import Mnemonic\n",
    "from bip44 import Wallet\n",
    "from web3 import Account"
   ]
  },
  {
   "cell_type": "code",
   "execution_count": 32,
   "metadata": {},
   "outputs": [
    {
     "data": {
      "text/html": [
       "<div>\n",
       "<style scoped>\n",
       "    .dataframe tbody tr th:only-of-type {\n",
       "        vertical-align: middle;\n",
       "    }\n",
       "\n",
       "    .dataframe tbody tr th {\n",
       "        vertical-align: top;\n",
       "    }\n",
       "\n",
       "    .dataframe thead th {\n",
       "        text-align: right;\n",
       "    }\n",
       "</style>\n",
       "<table border=\"1\" class=\"dataframe\">\n",
       "  <thead>\n",
       "    <tr style=\"text-align: right;\">\n",
       "      <th></th>\n",
       "      <th>user</th>\n",
       "      <th>real_name</th>\n",
       "    </tr>\n",
       "  </thead>\n",
       "  <tbody>\n",
       "    <tr>\n",
       "      <th>0</th>\n",
       "      <td>U023R27V74N</td>\n",
       "      <td>Julia Kim</td>\n",
       "    </tr>\n",
       "    <tr>\n",
       "      <th>3</th>\n",
       "      <td>U025DPVSGBT</td>\n",
       "      <td>Shannon Li</td>\n",
       "    </tr>\n",
       "    <tr>\n",
       "      <th>4</th>\n",
       "      <td>U024R294XHV</td>\n",
       "      <td>Julia Milin</td>\n",
       "    </tr>\n",
       "    <tr>\n",
       "      <th>8</th>\n",
       "      <td>U023R27V74N</td>\n",
       "      <td>noname</td>\n",
       "    </tr>\n",
       "    <tr>\n",
       "      <th>19</th>\n",
       "      <td>U025E9FJVNU</td>\n",
       "      <td>Tim Moriarty</td>\n",
       "    </tr>\n",
       "    <tr>\n",
       "      <th>20</th>\n",
       "      <td>U025DPVSGBT</td>\n",
       "      <td>noname</td>\n",
       "    </tr>\n",
       "    <tr>\n",
       "      <th>24</th>\n",
       "      <td>U024WMKUP0C</td>\n",
       "      <td>Jose Sampedro</td>\n",
       "    </tr>\n",
       "    <tr>\n",
       "      <th>31</th>\n",
       "      <td>U024GNX9CGM</td>\n",
       "      <td>Aquiba Benarroch</td>\n",
       "    </tr>\n",
       "    <tr>\n",
       "      <th>44</th>\n",
       "      <td>U024WBY5S5Q</td>\n",
       "      <td>Babajide Ademola</td>\n",
       "    </tr>\n",
       "    <tr>\n",
       "      <th>46</th>\n",
       "      <td>U025GLTLJBE</td>\n",
       "      <td>david ingraham</td>\n",
       "    </tr>\n",
       "    <tr>\n",
       "      <th>48</th>\n",
       "      <td>U025AJNRNN6</td>\n",
       "      <td>Joel Carballo</td>\n",
       "    </tr>\n",
       "    <tr>\n",
       "      <th>49</th>\n",
       "      <td>U0253QXQT2S</td>\n",
       "      <td>Tom Banerjee</td>\n",
       "    </tr>\n",
       "    <tr>\n",
       "      <th>50</th>\n",
       "      <td>U023QT9923G</td>\n",
       "      <td>Jorge Chabo</td>\n",
       "    </tr>\n",
       "    <tr>\n",
       "      <th>51</th>\n",
       "      <td>U024GNX9CGM</td>\n",
       "      <td>noname</td>\n",
       "    </tr>\n",
       "    <tr>\n",
       "      <th>60</th>\n",
       "      <td>U025E9FJVNU</td>\n",
       "      <td>noname</td>\n",
       "    </tr>\n",
       "    <tr>\n",
       "      <th>65</th>\n",
       "      <td>U02536C3K3P</td>\n",
       "      <td>sean patel</td>\n",
       "    </tr>\n",
       "    <tr>\n",
       "      <th>71</th>\n",
       "      <td>U023F2P1CKZ</td>\n",
       "      <td>David Sison, Sr. SSM</td>\n",
       "    </tr>\n",
       "    <tr>\n",
       "      <th>78</th>\n",
       "      <td>U02548Z2S69</td>\n",
       "      <td>Gabriela Corrochano</td>\n",
       "    </tr>\n",
       "    <tr>\n",
       "      <th>83</th>\n",
       "      <td>U025AK2MCCA</td>\n",
       "      <td>Kalyani Thiruchelvam</td>\n",
       "    </tr>\n",
       "    <tr>\n",
       "      <th>84</th>\n",
       "      <td>U024ZA73WKV</td>\n",
       "      <td>Asad Ahmed</td>\n",
       "    </tr>\n",
       "  </tbody>\n",
       "</table>\n",
       "</div>"
      ],
      "text/plain": [
       "           user             real_name\n",
       "0   U023R27V74N             Julia Kim\n",
       "3   U025DPVSGBT            Shannon Li\n",
       "4   U024R294XHV           Julia Milin\n",
       "8   U023R27V74N                noname\n",
       "19  U025E9FJVNU          Tim Moriarty\n",
       "20  U025DPVSGBT                noname\n",
       "24  U024WMKUP0C         Jose Sampedro\n",
       "31  U024GNX9CGM      Aquiba Benarroch\n",
       "44  U024WBY5S5Q      Babajide Ademola\n",
       "46  U025GLTLJBE        david ingraham\n",
       "48  U025AJNRNN6         Joel Carballo\n",
       "49  U0253QXQT2S          Tom Banerjee\n",
       "50  U023QT9923G           Jorge Chabo\n",
       "51  U024GNX9CGM                noname\n",
       "60  U025E9FJVNU                noname\n",
       "65  U02536C3K3P            sean patel\n",
       "71  U023F2P1CKZ  David Sison, Sr. SSM\n",
       "78  U02548Z2S69   Gabriela Corrochano\n",
       "83  U025AK2MCCA  Kalyani Thiruchelvam\n",
       "84  U024ZA73WKV            Asad Ahmed"
      ]
     },
     "execution_count": 32,
     "metadata": {},
     "output_type": "execute_result"
    }
   ],
   "source": [
    "# import csv file and generate a wallet for each entry assigned to their slack ID\n",
    "\n",
    "students = pd.read_csv(Path(\"slack_cleaned.csv\"))\n",
    "students_df = students[[\"user\", \"real_name\"]].drop_duplicates()\n",
    "students_df.head(20)"
   ]
  },
  {
   "cell_type": "code",
   "execution_count": 25,
   "metadata": {},
   "outputs": [
    {
     "name": "stdout",
     "output_type": "stream",
     "text": [
      "u\n",
      "r\n"
     ]
    }
   ],
   "source": [
    "# create a for loop to loop through all ID and generate multiple addresses\n",
    "\n",
    "for row in students_df:\n",
    "    user_id = row[0]\n",
    "    print(user_id)\n"
   ]
  },
  {
   "cell_type": "code",
   "execution_count": 3,
   "metadata": {},
   "outputs": [
    {
     "data": {
      "text/plain": [
       "'front laundry panda luxury drift topple fog add alien deliver front melt swing absorb please media version seek warrior sign giggle cricket enrich gravity'"
      ]
     },
     "metadata": {},
     "output_type": "display_data"
    }
   ],
   "source": [
    "\n",
    "mnemonic = os.getenv(\"MNEMONIC\")\n",
    "\n",
    "if mnemonic is None:\n",
    "\n",
    "    mnemo = Mnemonic(\"english\")  \n",
    "    \n",
    "    mnemonic = mnemo.generate(strength=256)\n",
    "    \n",
    "display(mnemonic)\n"
   ]
  },
  {
   "cell_type": "code",
   "execution_count": 4,
   "metadata": {},
   "outputs": [
    {
     "data": {
      "text/plain": [
       "<bip44.wallet.Wallet at 0x7f8819ca5110>"
      ]
     },
     "execution_count": 4,
     "metadata": {},
     "output_type": "execute_result"
    }
   ],
   "source": [
    "wallet = Wallet(mnemonic)\n",
    "\n",
    "wallet"
   ]
  },
  {
   "cell_type": "code",
   "execution_count": 5,
   "metadata": {},
   "outputs": [
    {
     "data": {
      "text/plain": [
       "b'\\xc3{\\xdd\\x8c\\xfcK\\x86\\xfb\\x8a\\x96\\xfd\\x92\\xc4\\xa5P1*\\xc7\\xdf\\xbe\\xf1\\x83\\xf8\\x95\\xdb\\xa6=\\x8a\\xc6\\x90r\\xcd'"
      ]
     },
     "execution_count": 5,
     "metadata": {},
     "output_type": "execute_result"
    }
   ],
   "source": [
    "private, public = wallet.derive_account(\"eth\")\n",
    "\n",
    "private"
   ]
  },
  {
   "cell_type": "code",
   "execution_count": 6,
   "metadata": {},
   "outputs": [],
   "source": [
    "# Passing private key variable\n",
    "account = Account.privateKeyToAccount(private)"
   ]
  },
  {
   "cell_type": "code",
   "execution_count": 7,
   "metadata": {},
   "outputs": [
    {
     "data": {
      "text/plain": [
       "'0xf7404840cf467CaFE583db653561e90fEFdC6Fc6'"
      ]
     },
     "execution_count": 7,
     "metadata": {},
     "output_type": "execute_result"
    }
   ],
   "source": [
    "# Calling account.address to access the address associated with new Ethereum account\n",
    "account.address"
   ]
  },
  {
   "cell_type": "code",
   "execution_count": 8,
   "metadata": {},
   "outputs": [
    {
     "data": {
      "text/plain": [
       "HexBytes('0xc37bdd8cfc4b86fb8a96fd92c4a550312ac7dfbef183f895dba63d8ac69072cd')"
      ]
     },
     "execution_count": 8,
     "metadata": {},
     "output_type": "execute_result"
    }
   ],
   "source": [
    "\n",
    "# Calling account.privateKey to access the private key associated with new Ethereum account\n",
    "account.privateKey"
   ]
  },
  {
   "cell_type": "code",
   "execution_count": 9,
   "metadata": {},
   "outputs": [],
   "source": [
    "def get_balance(w3, address):\n",
    "    \"\"\"Using an Ethereum account address access the balance of Ether\"\"\"\n",
    "    # Get balance of address in Wei\n",
    "    wei_balance = w3.eth.get_balance(address)\n",
    "\n",
    "    # Converting Wei value to ether\n",
    "    ether = w3.fromWei(wei_balance, \"ether\")\n",
    "\n",
    "    return ether"
   ]
  },
  {
   "cell_type": "code",
   "execution_count": 10,
   "metadata": {},
   "outputs": [
    {
     "data": {
      "text/plain": [
       "<function __main__.get_balance(w3, address)>"
      ]
     },
     "execution_count": 10,
     "metadata": {},
     "output_type": "execute_result"
    }
   ],
   "source": [
    "get_balance"
   ]
  }
 ],
 "metadata": {
  "kernelspec": {
   "display_name": "Python 3",
   "language": "python",
   "name": "python3"
  },
  "language_info": {
   "codemirror_mode": {
    "name": "ipython",
    "version": 3
   },
   "file_extension": ".py",
   "mimetype": "text/x-python",
   "name": "python",
   "nbconvert_exporter": "python",
   "pygments_lexer": "ipython3",
   "version": "3.7.10"
  }
 },
 "nbformat": 4,
 "nbformat_minor": 4
}
