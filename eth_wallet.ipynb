{
 "cells": [
  {
   "cell_type": "code",
   "execution_count": 1,
   "metadata": {},
   "outputs": [],
   "source": [
    "# Imports\n",
    "from pathlib import Path\n",
    "import pandas as pd\n",
    "import os\n",
    "from dotenv import load_dotenv\n",
    "load_dotenv()\n",
    "from mnemonic import Mnemonic\n",
    "from bip44 import Wallet\n",
    "from web3 import Account"
   ]
  },
  {
   "cell_type": "code",
   "execution_count": 2,
   "metadata": {},
   "outputs": [],
   "source": [
    "# import csv file and generate a wallet for each entry assigned to their slack ID\n",
    "\n",
    "#students = pd.read_csv(Path(\"\"))\n"
   ]
  },
  {
   "cell_type": "code",
   "execution_count": 3,
   "metadata": {},
   "outputs": [
    {
     "data": {
      "text/plain": [
       "'front laundry panda luxury drift topple fog add alien deliver front melt swing absorb please media version seek warrior sign giggle cricket enrich gravity'"
      ]
     },
     "metadata": {},
     "output_type": "display_data"
    }
   ],
   "source": [
    "\n",
    "mnemonic = os.getenv(\"MNEMONIC\")\n",
    "\n",
    "if mnemonic is None:\n",
    "\n",
    "    mnemo = Mnemonic(\"english\")  \n",
    "    \n",
    "    mnemonic = mnemo.generate(strength=256)\n",
    "    \n",
    "display(mnemonic)\n"
   ]
  },
  {
   "cell_type": "code",
   "execution_count": 4,
   "metadata": {},
   "outputs": [
    {
     "data": {
      "text/plain": [
       "<bip44.wallet.Wallet at 0x7f8819ca5110>"
      ]
     },
     "execution_count": 4,
     "metadata": {},
     "output_type": "execute_result"
    }
   ],
   "source": [
    "wallet = Wallet(mnemonic)\n",
    "\n",
    "wallet"
   ]
  },
  {
   "cell_type": "code",
   "execution_count": 5,
   "metadata": {},
   "outputs": [
    {
     "data": {
      "text/plain": [
       "b'\\xc3{\\xdd\\x8c\\xfcK\\x86\\xfb\\x8a\\x96\\xfd\\x92\\xc4\\xa5P1*\\xc7\\xdf\\xbe\\xf1\\x83\\xf8\\x95\\xdb\\xa6=\\x8a\\xc6\\x90r\\xcd'"
      ]
     },
     "execution_count": 5,
     "metadata": {},
     "output_type": "execute_result"
    }
   ],
   "source": [
    "private, public = wallet.derive_account(\"eth\")\n",
    "\n",
    "private"
   ]
  },
  {
   "cell_type": "code",
   "execution_count": 6,
   "metadata": {},
   "outputs": [],
   "source": [
    "# Passing private key variable\n",
    "account = Account.privateKeyToAccount(private)"
   ]
  },
  {
   "cell_type": "code",
   "execution_count": 7,
   "metadata": {},
   "outputs": [
    {
     "data": {
      "text/plain": [
       "'0xf7404840cf467CaFE583db653561e90fEFdC6Fc6'"
      ]
     },
     "execution_count": 7,
     "metadata": {},
     "output_type": "execute_result"
    }
   ],
   "source": [
    "# Calling account.address to access the address associated with new Ethereum account\n",
    "account.address"
   ]
  },
  {
   "cell_type": "code",
   "execution_count": 8,
   "metadata": {},
   "outputs": [
    {
     "data": {
      "text/plain": [
       "HexBytes('0xc37bdd8cfc4b86fb8a96fd92c4a550312ac7dfbef183f895dba63d8ac69072cd')"
      ]
     },
     "execution_count": 8,
     "metadata": {},
     "output_type": "execute_result"
    }
   ],
   "source": [
    "\n",
    "# Calling account.privateKey to access the private key associated with new Ethereum account\n",
    "account.privateKey"
   ]
  },
  {
   "cell_type": "code",
   "execution_count": 9,
   "metadata": {},
   "outputs": [],
   "source": [
    "def get_balance(w3, address):\n",
    "    \"\"\"Using an Ethereum account address access the balance of Ether\"\"\"\n",
    "    # Get balance of address in Wei\n",
    "    wei_balance = w3.eth.get_balance(address)\n",
    "\n",
    "    # Converting Wei value to ether\n",
    "    ether = w3.fromWei(wei_balance, \"ether\")\n",
    "\n",
    "    return ether"
   ]
  },
  {
   "cell_type": "code",
   "execution_count": 10,
   "metadata": {},
   "outputs": [
    {
     "data": {
      "text/plain": [
       "<function __main__.get_balance(w3, address)>"
      ]
     },
     "execution_count": 10,
     "metadata": {},
     "output_type": "execute_result"
    }
   ],
   "source": [
    "get_balance"
   ]
  }
 ],
 "metadata": {
  "kernelspec": {
   "display_name": "Python 3",
   "language": "python",
   "name": "python3"
  },
  "language_info": {
   "codemirror_mode": {
    "name": "ipython",
    "version": 3
   },
   "file_extension": ".py",
   "mimetype": "text/x-python",
   "name": "python",
   "nbconvert_exporter": "python",
   "pygments_lexer": "ipython3",
   "version": "3.7.10"
  }
 },
 "nbformat": 4,
 "nbformat_minor": 4
}
